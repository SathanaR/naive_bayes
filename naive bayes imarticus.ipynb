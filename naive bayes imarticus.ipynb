{
 "cells": [
  {
   "cell_type": "code",
   "execution_count": 1,
   "id": "01fa58be",
   "metadata": {},
   "outputs": [],
   "source": [
    "import pandas as pd\n",
    "from sklearn import preprocessing\n",
    "from sklearn.model_selection import train_test_split\n",
    "from sklearn.naive_bayes import GaussianNB\n",
    "from sklearn import metrics\n",
    "import numpy as np"
   ]
  },
  {
   "cell_type": "code",
   "execution_count": 5,
   "id": "ae562580",
   "metadata": {},
   "outputs": [],
   "source": [
    "data=pd.read_csv(\"D:/data analysis class/mobile_price.csv\")"
   ]
  },
  {
   "cell_type": "code",
   "execution_count": 6,
   "id": "e30dc7ba",
   "metadata": {},
   "outputs": [
    {
     "data": {
      "text/html": [
       "<div>\n",
       "<style scoped>\n",
       "    .dataframe tbody tr th:only-of-type {\n",
       "        vertical-align: middle;\n",
       "    }\n",
       "\n",
       "    .dataframe tbody tr th {\n",
       "        vertical-align: top;\n",
       "    }\n",
       "\n",
       "    .dataframe thead th {\n",
       "        text-align: right;\n",
       "    }\n",
       "</style>\n",
       "<table border=\"1\" class=\"dataframe\">\n",
       "  <thead>\n",
       "    <tr style=\"text-align: right;\">\n",
       "      <th></th>\n",
       "      <th>battery_power</th>\n",
       "      <th>blue</th>\n",
       "      <th>clock_speed</th>\n",
       "      <th>dual_sim</th>\n",
       "      <th>fc</th>\n",
       "      <th>four_g</th>\n",
       "      <th>int_memory</th>\n",
       "      <th>m_dep</th>\n",
       "      <th>mobile_wt</th>\n",
       "      <th>n_cores</th>\n",
       "      <th>...</th>\n",
       "      <th>px_height</th>\n",
       "      <th>px_width</th>\n",
       "      <th>ram</th>\n",
       "      <th>sc_h</th>\n",
       "      <th>sc_w</th>\n",
       "      <th>talk_time</th>\n",
       "      <th>three_g</th>\n",
       "      <th>touch_screen</th>\n",
       "      <th>wifi</th>\n",
       "      <th>price_range</th>\n",
       "    </tr>\n",
       "  </thead>\n",
       "  <tbody>\n",
       "    <tr>\n",
       "      <th>0</th>\n",
       "      <td>842</td>\n",
       "      <td>0</td>\n",
       "      <td>2.2</td>\n",
       "      <td>0</td>\n",
       "      <td>1</td>\n",
       "      <td>0</td>\n",
       "      <td>7</td>\n",
       "      <td>0.6</td>\n",
       "      <td>188</td>\n",
       "      <td>2</td>\n",
       "      <td>...</td>\n",
       "      <td>20</td>\n",
       "      <td>756</td>\n",
       "      <td>2549</td>\n",
       "      <td>9</td>\n",
       "      <td>7</td>\n",
       "      <td>19</td>\n",
       "      <td>0</td>\n",
       "      <td>0</td>\n",
       "      <td>1</td>\n",
       "      <td>1</td>\n",
       "    </tr>\n",
       "    <tr>\n",
       "      <th>1</th>\n",
       "      <td>1021</td>\n",
       "      <td>1</td>\n",
       "      <td>0.5</td>\n",
       "      <td>1</td>\n",
       "      <td>0</td>\n",
       "      <td>1</td>\n",
       "      <td>53</td>\n",
       "      <td>0.7</td>\n",
       "      <td>136</td>\n",
       "      <td>3</td>\n",
       "      <td>...</td>\n",
       "      <td>905</td>\n",
       "      <td>1988</td>\n",
       "      <td>2631</td>\n",
       "      <td>17</td>\n",
       "      <td>3</td>\n",
       "      <td>7</td>\n",
       "      <td>1</td>\n",
       "      <td>1</td>\n",
       "      <td>0</td>\n",
       "      <td>2</td>\n",
       "    </tr>\n",
       "    <tr>\n",
       "      <th>2</th>\n",
       "      <td>563</td>\n",
       "      <td>1</td>\n",
       "      <td>0.5</td>\n",
       "      <td>1</td>\n",
       "      <td>2</td>\n",
       "      <td>1</td>\n",
       "      <td>41</td>\n",
       "      <td>0.9</td>\n",
       "      <td>145</td>\n",
       "      <td>5</td>\n",
       "      <td>...</td>\n",
       "      <td>1263</td>\n",
       "      <td>1716</td>\n",
       "      <td>2603</td>\n",
       "      <td>11</td>\n",
       "      <td>2</td>\n",
       "      <td>9</td>\n",
       "      <td>1</td>\n",
       "      <td>1</td>\n",
       "      <td>0</td>\n",
       "      <td>2</td>\n",
       "    </tr>\n",
       "    <tr>\n",
       "      <th>3</th>\n",
       "      <td>615</td>\n",
       "      <td>1</td>\n",
       "      <td>2.5</td>\n",
       "      <td>0</td>\n",
       "      <td>0</td>\n",
       "      <td>0</td>\n",
       "      <td>10</td>\n",
       "      <td>0.8</td>\n",
       "      <td>131</td>\n",
       "      <td>6</td>\n",
       "      <td>...</td>\n",
       "      <td>1216</td>\n",
       "      <td>1786</td>\n",
       "      <td>2769</td>\n",
       "      <td>16</td>\n",
       "      <td>8</td>\n",
       "      <td>11</td>\n",
       "      <td>1</td>\n",
       "      <td>0</td>\n",
       "      <td>0</td>\n",
       "      <td>2</td>\n",
       "    </tr>\n",
       "    <tr>\n",
       "      <th>4</th>\n",
       "      <td>1821</td>\n",
       "      <td>1</td>\n",
       "      <td>1.2</td>\n",
       "      <td>0</td>\n",
       "      <td>13</td>\n",
       "      <td>1</td>\n",
       "      <td>44</td>\n",
       "      <td>0.6</td>\n",
       "      <td>141</td>\n",
       "      <td>2</td>\n",
       "      <td>...</td>\n",
       "      <td>1208</td>\n",
       "      <td>1212</td>\n",
       "      <td>1411</td>\n",
       "      <td>8</td>\n",
       "      <td>2</td>\n",
       "      <td>15</td>\n",
       "      <td>1</td>\n",
       "      <td>1</td>\n",
       "      <td>0</td>\n",
       "      <td>1</td>\n",
       "    </tr>\n",
       "  </tbody>\n",
       "</table>\n",
       "<p>5 rows × 21 columns</p>\n",
       "</div>"
      ],
      "text/plain": [
       "   battery_power  blue  clock_speed  dual_sim  fc  four_g  int_memory  m_dep  \\\n",
       "0            842     0          2.2         0   1       0           7    0.6   \n",
       "1           1021     1          0.5         1   0       1          53    0.7   \n",
       "2            563     1          0.5         1   2       1          41    0.9   \n",
       "3            615     1          2.5         0   0       0          10    0.8   \n",
       "4           1821     1          1.2         0  13       1          44    0.6   \n",
       "\n",
       "   mobile_wt  n_cores  ...  px_height  px_width   ram  sc_h  sc_w  talk_time  \\\n",
       "0        188        2  ...         20       756  2549     9     7         19   \n",
       "1        136        3  ...        905      1988  2631    17     3          7   \n",
       "2        145        5  ...       1263      1716  2603    11     2          9   \n",
       "3        131        6  ...       1216      1786  2769    16     8         11   \n",
       "4        141        2  ...       1208      1212  1411     8     2         15   \n",
       "\n",
       "   three_g  touch_screen  wifi  price_range  \n",
       "0        0             0     1            1  \n",
       "1        1             1     0            2  \n",
       "2        1             1     0            2  \n",
       "3        1             0     0            2  \n",
       "4        1             1     0            1  \n",
       "\n",
       "[5 rows x 21 columns]"
      ]
     },
     "execution_count": 6,
     "metadata": {},
     "output_type": "execute_result"
    }
   ],
   "source": [
    "data.head()"
   ]
  },
  {
   "cell_type": "code",
   "execution_count": 7,
   "id": "53647f69",
   "metadata": {},
   "outputs": [
    {
     "data": {
      "text/plain": [
       "Index(['battery_power', 'blue', 'clock_speed', 'dual_sim', 'fc', 'four_g',\n",
       "       'int_memory', 'm_dep', 'mobile_wt', 'n_cores', 'pc', 'px_height',\n",
       "       'px_width', 'ram', 'sc_h', 'sc_w', 'talk_time', 'three_g',\n",
       "       'touch_screen', 'wifi', 'price_range'],\n",
       "      dtype='object')"
      ]
     },
     "execution_count": 7,
     "metadata": {},
     "output_type": "execute_result"
    }
   ],
   "source": [
    "data.columns"
   ]
  },
  {
   "cell_type": "code",
   "execution_count": 9,
   "id": "5370f233",
   "metadata": {},
   "outputs": [],
   "source": [
    "Y=data.price_range"
   ]
  },
  {
   "cell_type": "code",
   "execution_count": 10,
   "id": "3e969e61",
   "metadata": {},
   "outputs": [],
   "source": [
    "data.drop('price_range',axis=1,inplace=True)"
   ]
  },
  {
   "cell_type": "code",
   "execution_count": 13,
   "id": "74e69cc7",
   "metadata": {},
   "outputs": [],
   "source": [
    "X_train, X_test, y_train, y_test = train_test_split(data, Y, test_size=0.4, random_state=100)"
   ]
  },
  {
   "cell_type": "code",
   "execution_count": 14,
   "id": "135d8d09",
   "metadata": {},
   "outputs": [],
   "source": [
    "gnb = GaussianNB()"
   ]
  },
  {
   "cell_type": "code",
   "execution_count": 15,
   "id": "7a60d053",
   "metadata": {},
   "outputs": [
    {
     "data": {
      "text/plain": [
       "GaussianNB()"
      ]
     },
     "execution_count": 15,
     "metadata": {},
     "output_type": "execute_result"
    }
   ],
   "source": [
    "gnb.fit(X_train, y_train)"
   ]
  },
  {
   "cell_type": "code",
   "execution_count": 16,
   "id": "8b997615",
   "metadata": {},
   "outputs": [],
   "source": [
    " y_pred = gnb.predict(X_test)"
   ]
  },
  {
   "cell_type": "code",
   "execution_count": 17,
   "id": "56fab6c5",
   "metadata": {},
   "outputs": [
    {
     "data": {
      "text/plain": [
       "array([0, 2, 0, 2, 3, 3, 3, 2, 3, 1, 0, 1, 3, 3, 0, 2, 2, 3, 2, 0, 0, 3,\n",
       "       1, 0, 0, 1, 3, 0, 1, 2, 0, 3, 0, 1, 0, 3, 3, 2, 1, 3, 3, 3, 0, 0,\n",
       "       3, 3, 2, 0, 1, 2, 3, 3, 3, 2, 1, 3, 1, 3, 1, 0, 3, 2, 3, 0, 3, 0,\n",
       "       0, 3, 3, 2, 0, 1, 2, 1, 2, 3, 0, 3, 2, 3, 1, 0, 2, 0, 2, 2, 1, 2,\n",
       "       3, 2, 3, 3, 3, 2, 0, 2, 3, 0, 1, 1, 0, 0, 3, 3, 2, 0, 0, 1, 1, 1,\n",
       "       1, 1, 3, 2, 0, 3, 1, 3, 0, 1, 3, 1, 0, 2, 3, 2, 3, 3, 0, 3, 2, 0,\n",
       "       1, 2, 3, 1, 3, 2, 0, 1, 3, 0, 3, 3, 2, 2, 2, 2, 0, 2, 0, 3, 1, 2,\n",
       "       1, 0, 2, 2, 1, 1, 3, 2, 3, 0, 1, 3, 0, 3, 3, 0, 3, 1, 2, 1, 2, 1,\n",
       "       2, 1, 3, 0, 0, 2, 2, 0, 0, 3, 2, 2, 3, 2, 2, 1, 1, 1, 3, 2, 3, 2,\n",
       "       2, 1, 3, 1, 2, 2, 3, 0, 1, 3, 3, 1, 0, 1, 2, 0, 1, 2, 3, 0, 1, 3,\n",
       "       0, 3, 0, 0, 1, 1, 2, 3, 2, 0, 2, 2, 0, 1, 0, 3, 3, 2, 2, 0, 1, 3,\n",
       "       2, 1, 0, 2, 3, 1, 2, 2, 1, 3, 3, 1, 3, 2, 1, 1, 2, 3, 1, 3, 3, 1,\n",
       "       1, 2, 3, 1, 1, 1, 0, 3, 2, 0, 2, 1, 2, 3, 2, 2, 2, 1, 3, 1, 0, 2,\n",
       "       3, 0, 0, 1, 3, 2, 1, 3, 2, 0, 2, 3, 0, 3, 3, 3, 0, 0, 3, 1, 3, 0,\n",
       "       0, 0, 3, 0, 1, 2, 0, 1, 2, 3, 1, 2, 3, 3, 0, 0, 0, 0, 0, 2, 1, 1,\n",
       "       2, 1, 0, 0, 1, 2, 3, 1, 2, 1, 0, 2, 0, 0, 3, 2, 1, 2, 0, 2, 0, 3,\n",
       "       3, 0, 2, 3, 0, 0, 1, 3, 3, 3, 2, 3, 0, 3, 1, 2, 0, 0, 2, 0, 0, 1,\n",
       "       2, 3, 1, 1, 1, 3, 0, 2, 0, 1, 0, 2, 0, 2, 2, 1, 1, 3, 0, 1, 0, 3,\n",
       "       0, 3, 0, 0, 0, 0, 3, 0, 0, 3, 3, 1, 2, 3, 0, 0, 2, 1, 0, 0, 2, 2,\n",
       "       0, 0, 3, 0, 0, 0, 2, 2, 1, 1, 0, 3, 0, 0, 2, 3, 2, 0, 1, 1, 3, 1,\n",
       "       0, 0, 0, 0, 2, 0, 1, 1, 0, 3, 3, 2, 2, 3, 0, 3, 2, 3, 3, 0, 0, 2,\n",
       "       0, 2, 1, 0, 0, 2, 0, 3, 3, 0, 1, 1, 1, 1, 2, 1, 1, 1, 0, 2, 3, 2,\n",
       "       2, 1, 1, 2, 2, 1, 0, 2, 2, 2, 0, 1, 1, 2, 2, 2, 1, 2, 2, 0, 0, 3,\n",
       "       3, 0, 1, 3, 1, 3, 0, 1, 3, 1, 1, 1, 1, 3, 1, 1, 3, 3, 0, 2, 3, 2,\n",
       "       1, 3, 0, 2, 2, 3, 0, 1, 0, 0, 2, 3, 3, 3, 0, 1, 2, 0, 2, 3, 2, 2,\n",
       "       2, 0, 2, 0, 0, 1, 3, 0, 1, 1, 1, 1, 3, 2, 1, 0, 3, 3, 0, 3, 0, 2,\n",
       "       3, 2, 0, 0, 1, 3, 0, 2, 2, 3, 0, 2, 1, 1, 1, 3, 1, 1, 0, 1, 1, 2,\n",
       "       0, 2, 0, 2, 0, 3, 2, 3, 1, 3, 3, 0, 1, 2, 3, 2, 3, 3, 0, 0, 1, 1,\n",
       "       2, 0, 0, 0, 0, 1, 0, 0, 0, 1, 2, 0, 2, 0, 2, 0, 2, 0, 2, 2, 3, 0,\n",
       "       1, 1, 3, 2, 1, 1, 3, 2, 2, 2, 2, 1, 0, 2, 0, 1, 3, 1, 2, 0, 1, 0,\n",
       "       2, 2, 0, 0, 1, 3, 3, 2, 3, 2, 3, 1, 2, 0, 2, 1, 3, 3, 0, 2, 2, 3,\n",
       "       1, 0, 3, 3, 0, 0, 3, 2, 2, 2, 0, 0, 1, 0, 0, 2, 3, 2, 3, 2, 2, 3,\n",
       "       3, 3, 0, 3, 3, 3, 1, 1, 0, 0, 2, 3, 0, 3, 0, 1, 3, 3, 1, 3, 3, 0,\n",
       "       1, 2, 0, 2, 1, 1, 2, 2, 0, 1, 1, 1, 0, 1, 2, 0, 3, 2, 2, 3, 0, 2,\n",
       "       1, 1, 2, 3, 3, 3, 0, 2, 3, 0, 1, 2, 1, 1, 0, 3, 1, 2, 3, 1, 2, 2,\n",
       "       0, 2, 1, 0, 3, 3, 2, 1, 1, 3, 3, 3, 1, 3, 2, 2, 3, 1, 3, 3, 1, 0,\n",
       "       1, 2, 3, 3, 0, 0, 0, 1], dtype=int64)"
      ]
     },
     "execution_count": 17,
     "metadata": {},
     "output_type": "execute_result"
    }
   ],
   "source": [
    "y_pred"
   ]
  },
  {
   "cell_type": "code",
   "execution_count": 18,
   "id": "353d4a6d",
   "metadata": {},
   "outputs": [
    {
     "name": "stdout",
     "output_type": "stream",
     "text": [
      "Gaussian Naive Bayes model accuracy(in%): 81.5\n"
     ]
    }
   ],
   "source": [
    "print(\"Gaussian Naive Bayes model accuracy(in%):\",metrics.accuracy_score(y_test,y_pred)*100)"
   ]
  },
  {
   "cell_type": "code",
   "execution_count": 19,
   "id": "b5120414",
   "metadata": {},
   "outputs": [],
   "source": [
    "datax=pd.concat([X_train,X_test])"
   ]
  },
  {
   "cell_type": "code",
   "execution_count": 20,
   "id": "c8f612bf",
   "metadata": {},
   "outputs": [],
   "source": [
    "datay=pd.concat([y_train,y_test])"
   ]
  },
  {
   "cell_type": "code",
   "execution_count": 21,
   "id": "eaf63d63",
   "metadata": {},
   "outputs": [
    {
     "data": {
      "text/plain": [
       "(2000,)"
      ]
     },
     "execution_count": 21,
     "metadata": {},
     "output_type": "execute_result"
    }
   ],
   "source": [
    "datay.shape"
   ]
  },
  {
   "cell_type": "code",
   "execution_count": 22,
   "id": "7bfc7984",
   "metadata": {},
   "outputs": [
    {
     "data": {
      "text/plain": [
       "(2000, 20)"
      ]
     },
     "execution_count": 22,
     "metadata": {},
     "output_type": "execute_result"
    }
   ],
   "source": [
    "datax.shape"
   ]
  },
  {
   "cell_type": "code",
   "execution_count": 23,
   "id": "75b100af",
   "metadata": {},
   "outputs": [],
   "source": [
    "modelf=gnb.fit(datax,datay)"
   ]
  },
  {
   "cell_type": "code",
   "execution_count": 24,
   "id": "3033a321",
   "metadata": {},
   "outputs": [],
   "source": [
    " y_predf = gnb.predict(datax)"
   ]
  },
  {
   "cell_type": "code",
   "execution_count": 25,
   "id": "834b20bf",
   "metadata": {},
   "outputs": [
    {
     "data": {
      "text/plain": [
       "82.0"
      ]
     },
     "execution_count": 25,
     "metadata": {},
     "output_type": "execute_result"
    }
   ],
   "source": [
    "metrics.accuracy_score(datay,y_predf)*100"
   ]
  },
  {
   "cell_type": "code",
   "execution_count": null,
   "id": "1c09f68a",
   "metadata": {},
   "outputs": [],
   "source": []
  }
 ],
 "metadata": {
  "kernelspec": {
   "display_name": "Python 3 (ipykernel)",
   "language": "python",
   "name": "python3"
  },
  "language_info": {
   "codemirror_mode": {
    "name": "ipython",
    "version": 3
   },
   "file_extension": ".py",
   "mimetype": "text/x-python",
   "name": "python",
   "nbconvert_exporter": "python",
   "pygments_lexer": "ipython3",
   "version": "3.9.7"
  }
 },
 "nbformat": 4,
 "nbformat_minor": 5
}
